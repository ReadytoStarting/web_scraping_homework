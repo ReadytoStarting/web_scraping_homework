{
 "cells": [
  {
   "cell_type": "code",
   "execution_count": null,
   "id": "bceaf9b7",
   "metadata": {},
   "outputs": [
    {
     "name": "stdout",
     "output_type": "stream",
     "text": [
      "https://news.daum.net/economy\n",
      "<class 'requests.models.Response'>\n",
      "200\n",
      "<class 'bs4.element.ResultSet'> 9\n",
      "https://v.daum.net/v/20250408210600644\n",
      "“경영 노하우 공유하는 특별한 경험”…매일경제-성남상의, 제7기 최고경영자과정 입학식\n",
      "https://v.daum.net/v/20250408205853462\n",
      "가성비로 무장한 단체, 다시 제주로 간다” 수학여행부터 대만 인센티브까지.. ‘단체관광’이 살리는 제주\n",
      "https://v.daum.net/v/20250408204335126\n",
      "부동산 경기 활성화와 가계 부채 억제 사이, 새 정부 선택은?[정준호의 부동산과 사회경제]\n",
      "https://v.daum.net/v/20250408184905360\n",
      "‘관세 직격탄’ 애플 주가 19% ‘뚝’… 갈수록 커지는 ‘T공포’ [관세전쟁 후폭풍]\n",
      "https://v.daum.net/v/20250408183514025\n",
      "미·중 치킨게임…원화값 1473원대 추락, 글로벌 금융위기 후 최저\n",
      "https://v.daum.net/v/20250408175343664\n",
      "美·中 관세 폭탄 돌리기…‘새우등’ 한국 경제 불안감 더 커졌다\n",
      "https://v.daum.net/v/20250408175111585\n",
      "나랏빚 1175조 '역대 최대'…추경 재원 바닥\n",
      "https://v.daum.net/v/20250408174344325\n",
      "메디젠휴먼케어, \"23andMe 파산..한국 유전체 산업의 위기 아닌 기회\"\n",
      "https://v.daum.net/v/20250408173713085\n",
      "칩 확보서 데이터센터까지···전 산업에 'AI 고속도로' 깔아야\n"
     ]
    }
   ],
   "source": [
    "import requests\n",
    "from bs4 import BeautifulSoup\n",
    "\n",
    "# URL 설정\n",
    "url = 'https://news.daum.net/economy'\n",
    "\n",
    "# 요청 보내기\n",
    "response = requests.get(url)\n",
    "response.encoding = 'utf-8'\n",
    "\n",
    "# 응답 확인\n",
    "print(url)\n",
    "print(type(response))\n",
    "print(response.status_code)\n",
    "\n",
    "# BeautifulSoup 객체 생성\n",
    "soup = BeautifulSoup(response.text, 'html.parser')\n",
    "\n",
    "# 뉴스 기사 링크와 제목 추출\n",
    "news_list = soup.select('ul.list_newsheadline2 li')\n",
    "print(type(news_list), len(news_list))\n",
    "\n",
    "for li_tag in news_list:\n",
    "    a_tag = li_tag.find('a')\n",
    "    link = a_tag['href']\n",
    "    \n",
    "    strong_tag = li_tag.select_one('div.cont_thumb strong.tit_txt')\n",
    "    if strong_tag:\n",
    "        title = strong_tag.text.strip()\n",
    "        print(link)\n",
    "        print(title)\n",
    "    else:\n",
    "        print(f\"제목을 찾을 수 없습니다: {link}\")"
   ]
  },
  {
   "cell_type": "code",
   "execution_count": 18,
   "id": "92258c58",
   "metadata": {},
   "outputs": [
    {
     "name": "stdout",
     "output_type": "stream",
     "text": [
      "======> https://news.daum.net/economy 경제 뉴스 <======\n",
      "https://v.daum.net/v/20250409000111726\n",
      "\"다양화·세분화에 대응\"…AI 플랫폼 활용하는 패션·뷰티업계\n",
      "https://v.daum.net/v/20250408210600644\n",
      "“경영 노하우 공유하는 특별한 경험”…매일경제-성남상의, 제7기 최고경영자과정 입학식\n",
      "https://v.daum.net/v/20250408205853462\n",
      "가성비로 무장한 단체, 다시 제주로 간다” 수학여행부터 대만 인센티브까지.. ‘단체관광’이 살리는 제주\n",
      "https://v.daum.net/v/20250408204335126\n",
      "부동산 경기 활성화와 가계 부채 억제 사이, 새 정부 선택은?[정준호의 부동산과 사회경제]\n",
      "https://v.daum.net/v/20250408184905360\n",
      "‘관세 직격탄’ 애플 주가 19% ‘뚝’… 갈수록 커지는 ‘T공포’ [관세전쟁 후폭풍]\n",
      "======> https://news.daum.net/society 사회 뉴스 <======\n",
      "https://v.daum.net/v/20250409011454625\n",
      "중국 10대 소년까지 공군기지 촬영 “아버지가 공안”\n",
      "https://v.daum.net/v/20250409010106513\n",
      "5년새 환자 40% 이상 늘었다…'쇼그렌증후군' 아시나요?\n",
      "https://v.daum.net/v/20250409001456063\n",
      "정말 행복했다…연경이도, 우리도\n",
      "https://v.daum.net/v/20250409000542856\n",
      "[부동산 Knock] 도 가계대출 절반 주담대…경기부진 속 소비위축 ‘부메랑’\n",
      "https://v.daum.net/v/20250409000539852\n",
      "[강원의료 희망을 캐다] “지방, 분초 다투는 응급환자 많아… 거점병원 반드시 필요”\n"
     ]
    }
   ],
   "source": [
    "import requests\n",
    "from bs4 import BeautifulSoup\n",
    "\n",
    "# 섹션 딕셔너리\n",
    "section_dict = {\n",
    "    '기후/환경': 'climate',\n",
    "    '사회': 'society',\n",
    "    '경제': 'economy',\n",
    "    '정치': 'politics',\n",
    "    '국제': 'world',\n",
    "    '문화': 'culture',\n",
    "    '생활': 'life',\n",
    "    'IT/과학': 'tech',\n",
    "    '인물': 'people'\n",
    "}\n",
    "\n",
    "# 함수 선언\n",
    "def print_news(section_name):\n",
    "    section = section_dict.get(section_name)\n",
    "    if not section:\n",
    "        print(f\"섹션 '{section_name}'을(를) 찾을 수 없습니다.\")\n",
    "        return\n",
    "    \n",
    "    url = f'https://news.daum.net/{section}'\n",
    "    response = requests.get(url)\n",
    "    response.encoding = 'utf-8'\n",
    "    \n",
    "    print(f\"======> {url} {section_name} 뉴스 <======\")\n",
    "    \n",
    "    soup = BeautifulSoup(response.text, 'html.parser')\n",
    "    news_list = soup.select('ul.list_newsheadline2 li')\n",
    "    \n",
    "    for li_tag in news_list[:5]:\n",
    "        a_tag = li_tag.find('a')\n",
    "        link = a_tag['href']\n",
    "        \n",
    "        strong_tag = li_tag.select_one('div.cont_thumb strong.tit_txt')\n",
    "        title = strong_tag.text.strip()\n",
    "        \n",
    "        print(link)\n",
    "        print(title)\n",
    "\n",
    "# 함수 호출\n",
    "print_news('경제')\n",
    "print_news('사회')"
   ]
  },
  {
   "cell_type": "code",
   "execution_count": 1,
   "id": "d1ab39f9",
   "metadata": {},
   "outputs": [
    {
     "name": "stdout",
     "output_type": "stream",
     "text": [
      "https://news.daum.net/경제\n",
      "<Response [200]>\n",
      "<class 'requests.models.Response'>\n",
      "200 True\n",
      "<class 'bs4.element.ResultSet'>\n",
      "https://v.daum.net/v/20250409083816698 '균형발전의 새 화두' 세종 수도 이전 논쟁 불붙었다\n",
      "https://v.daum.net/v/20250409071324960 [단독] 이준석, ‘연금개혁 리셋’ ‘여가부 개편’ 담은 대선공약 내주 발표\n",
      "https://v.daum.net/v/20250409063102233 '전세 10년 보장' 현실화되면…\"그야말로 대혼란\" 경고한 까닭 [돈앤톡]\n",
      "https://v.daum.net/v/20250409063016219 ‘친명 좌장’ 정성호 “개헌 동시투표? 국힘 전략 말려드는 것” [황형준의 법정모독]\n",
      "https://v.daum.net/v/20250409060136880 “정치가 뒷받침돼야 경제 산다…협치 담보할 개헌 필요”\n",
      "https://v.daum.net/v/20250409094730569 3월 취업자 19.3만 늘었지만…청년·건설·제조업 '고용한파' 지속(종합)\n",
      "https://v.daum.net/v/20250409094131319 오늘부터 국가별 상호 관세…보복하던 중국엔 “104% 부과”\n",
      "https://v.daum.net/v/20250409092645657 '한화 3세' 김동원 실패작 캐롯, 결국 한화손보 품으로… 경영능력 입증 무산\n",
      "https://v.daum.net/v/20250409090004377 줄탄핵·불법계엄 부딪치면 누가 막나… '87년 체제' 청산, 지금이 골든타임 [탄핵 갈등 넘어 통합으로]\n",
      "https://v.daum.net/v/20250409084028761 건설업 취업자 '역대 최대폭' 감소…청년 고용률 4년만에 최저(상보)\n",
      "https://v.daum.net/v/20250409081126003 美재무장관 \"몇몇 국가의 경우 매우 빠르게 관세협정 체결\"(종합)\n",
      "https://v.daum.net/v/20250409080721917 '자동차 생태계' 긴급 유동성 3조 신규 지원·조선 RG 확대\n",
      "https://v.daum.net/v/20250409080011684 관세 피해 지원에 추경 등 재정 투입…한일중 FTA 논의 '속도'\n",
      "https://v.daum.net/v/20250409070004666 조기대선 돌입…거래소·예탁원 등 증권 기관장 거취 '촉각'\n",
      "https://v.daum.net/v/20250409090923890 “딸 두면 비행기 탄다더라”… 여행준비가 즐겁고 더 화기애애[사랑합니다]\n",
      "https://v.daum.net/v/20250409060010711 [무늬가 있는 삶] 읽다가 길을 발견하다…개그맨 작가 고명환 | 전원생활\n",
      "https://v.daum.net/v/20250409002427134 \"성공? 하버드 아닌 한국 식료품점서 답 찾았다\" [안혜리의 인생]\n",
      "https://v.daum.net/v/20250408220751931 우승으로 시작해 우승으로 끝냈다…데뷔도 은퇴도 MVP로, 김연경의 화려한 피날레\n",
      "https://v.daum.net/v/20250408175217633 \"모든 보도는 본질적으로 탐사보도, 주변에 관심 가져야\"\n",
      "https://v.daum.net/v/20250409094828616 [그래픽] 3월 취업자 19.3만명 증가…청년·건설·제조업 한파는 지속\n",
      "https://v.daum.net/v/20250409080900962 [만화] 요즘 입맛 돌아요 [날백수인생]\n",
      "None\n"
     ]
    }
   ],
   "source": [
    "import requests as req\n",
    "from bs4 import BeautifulSoup\n",
    "\n",
    "section_dict = {\n",
    "    '기후/환경':'climate',\n",
    "    '경제': 'economy',\n",
    "    '사회':'society',\n",
    "    \"정치\":'politics',\n",
    "    '국제':'world',\n",
    "    '문화':'culture'\n",
    "    \n",
    "}\n",
    "\n",
    "def print_news(sid):\n",
    "    #section = section_dict[sid]\n",
    "    section = section_dict.get(sid)\n",
    "    if section is None:\n",
    "        print(\"요청하신 키값을 찾을 수 없습니다.\")\n",
    "    else:\n",
    "\n",
    "\n",
    "        url = f\"https://news.daum.net/{sid}\"\n",
    "        print(url)\n",
    "\n",
    "        req_header = {\n",
    "            'user-agent':\n",
    "        'Mozilla/5.0 (Windows NT 10.0; Win64; x64) AppleWebKit/537.36 (KHTML, like Gecko) Chrome/135.0.0.0 Safari/537.36'\n",
    "        }\n",
    "\n",
    "        res = req.get(url, headers=req_header)\n",
    "        print(res)\n",
    "        print(type(res))\n",
    "        print(res.status_code, res.ok)\n",
    "        res.encoding = 'utf-8'\n",
    "\n",
    "        if res.ok:\n",
    "            html = res.text\n",
    "\n",
    "            soup = BeautifulSoup(html, 'html.parser')\n",
    "            \n",
    "            li_list = soup.select(\"ul.list_newsheadline2 li\")\n",
    "            print(type(li_list)) # [<a href=\"http://\">뉴스제목</a>]ResultSet객체, <a></a>: Tag 객체 \n",
    "            #[<li></li>, ]\n",
    "            for li in li_list:\n",
    "                #print(type(a_tag))\n",
    "                a_tag = li.find('a')\n",
    "                #select_one이 동작되지 않을 때때\n",
    "                # title = li.select(\"div.cont_thumb strong.tit_txt\")\n",
    "                # if title:\n",
    "                #     titl = title[0]\n",
    "                title = li.select_one(\"div.cont_thumb strong.tit_txt\")\n",
    "                title = title.text\n",
    "                #href 속성의 값을 가져오기\n",
    "                link = a_tag['href']\n",
    "                print(link, title)\n",
    "\n",
    "\n",
    "            # <a> 태그 리스트 순회하기  `  \n",
    "        else: \n",
    "            # 응답(response)이 Error 이면 status code 출력 \n",
    "            print(f'Error code = {res.status_code}')   \n",
    "\n",
    "print(print_news('경제'))"
   ]
  },
  {
   "cell_type": "code",
   "execution_count": 36,
   "id": "cfc91588",
   "metadata": {},
   "outputs": [
    {
     "name": "stdout",
     "output_type": "stream",
     "text": [
      "=====>https://news.daum.net/economy 경제뉴스<=====\n",
      "https://v.daum.net/v/20250409000111726 \"다양화·세분화에 대응\"…AI 플랫폼 활용하는 패션·뷰티업계\n",
      "https://v.daum.net/v/20250408210600644 “경영 노하우 공유하는 특별한 경험”…매일경제-성남상의, 제7기 최고경영자과정 입학식\n",
      "https://v.daum.net/v/20250408205853462 가성비로 무장한 단체, 다시 제주로 간다” 수학여행부터 대만 인센티브까지.. ‘단체관광’이 살리는 제주\n",
      "https://v.daum.net/v/20250408204335126 부동산 경기 활성화와 가계 부채 억제 사이, 새 정부 선택은?[정준호의 부동산과 사회경제]\n",
      "https://v.daum.net/v/20250408184905360 ‘관세 직격탄’ 애플 주가 19% ‘뚝’… 갈수록 커지는 ‘T공포’ [관세전쟁 후폭풍]\n",
      "None\n",
      "=====>https://news.daum.net/world 국제뉴스<=====\n",
      "https://v.daum.net/v/20250409015524790 러 하원, 러·이란 포괄적 전략적 동반자 조약 비준\n",
      "https://v.daum.net/v/20250409012823706 '트럼프 관세 부메랑' 멕시코 진출 美자동차 업체 1분기 수출↓\n",
      "https://v.daum.net/v/20250409010910558 아베의 ‘절친 전략’ 지켜본 이시바, 美와 가장 먼저 협상팀 만들었다\n",
      "https://v.daum.net/v/20250409005252443 中 ‘트럼프 1기’ 학습 효과… 2일 이내 반격, 신속하게 대응\n",
      "https://v.daum.net/v/20250409003910280 [송세영 특파원의 여기는 베이징] 中 ‘포위·봉쇄 작전’ 숨통 죄면 대만 일주일도 버티기 힘들다\n",
      "None\n"
     ]
    }
   ],
   "source": [
    "import requests as req\n",
    "from bs4 import BeautifulSoup\n",
    "\n",
    "section_dict = {\n",
    "    '기후/환경':'climate',\n",
    "    '경제': 'economy',\n",
    "    '사회':'society',\n",
    "    \"정치\":'politics',\n",
    "    '국제':'world',\n",
    "    '문화':'culture'\n",
    "    \n",
    "}\n",
    "\n",
    "def print_news(sid):\n",
    "    section = section_dict[sid]\n",
    "\n",
    "    url = f\"https://news.daum.net/{section}\"\n",
    "    print(f'=====>{url} {sid}뉴스<=====')\n",
    "\n",
    "    req_header = {\n",
    "        'user-agent':\n",
    "    'Mozilla/5.0 (Windows NT 10.0; Win64; x64) AppleWebKit/537.36 (KHTML, like Gecko) Chrome/135.0.0.0 Safari/537.36'\n",
    "    }\n",
    "\n",
    "    \n",
    "    res = req.get(url, headers=req_header)\n",
    "    # print(res)\n",
    "    # print(type(res))\n",
    "    # print(res.status_code, res.ok)\n",
    "    res.encoding = 'utf-8'\n",
    "\n",
    "    if res.ok:\n",
    "        html = res.text\n",
    "\n",
    "        soup = BeautifulSoup(html, 'html.parser')\n",
    "        \n",
    "        li_list = soup.select(\"ul.list_newsheadline2 li\")\n",
    "        #print(type(li_list)) # [<a href=\"http://\">뉴스제목</a>]ResultSet객체, <a></a>: Tag 객체 \n",
    "        for li in li_list[:5]:\n",
    "            #print(type(a_tag))\n",
    "            a_tag = li.find('a')\n",
    "            title = li.select_one(\"div.cont_thumb strong.tit_txt\")\n",
    "            title = title.text\n",
    "            #href 속성의 값을 가져오기\n",
    "            link = a_tag['href']\n",
    "            print(link, title)\n",
    "\n",
    "\n",
    "        # <a> 태그 리스트 순회하기  `  \n",
    "    else: \n",
    "        # 응답(response)이 Error 이면 status code 출력 \n",
    "        print(f'Error code = {res.status_code}')   \n",
    "\n",
    "print(print_news('경제'))\n",
    "print(print_news('국제'))"
   ]
  },
  {
   "cell_type": "code",
   "execution_count": 2,
   "id": "4203c8e8",
   "metadata": {},
   "outputs": [
    {
     "name": "stdout",
     "output_type": "stream",
     "text": [
      "//thumbnews.nateimg.co.kr/news90///news.nateimg.co.kr/orgImg/cb/2025/04/09/202504090737595375_0.jpg\n"
     ]
    }
   ],
   "source": [
    "link = '//thumbnews.nateimg.co.kr/news90///news.nateimg.co.kr/orgImg/cb/2025/04/09/202504090737595375_0.jpg'\n",
    "print(link)"
   ]
  },
  {
   "cell_type": "code",
   "execution_count": 20,
   "id": "701a3b92",
   "metadata": {},
   "outputs": [
    {
     "name": "stdout",
     "output_type": "stream",
     "text": [
      "=====>https://news.nate.com/section?mid=n0300 경제뉴스<=====\n",
      "<Response [200]>\n",
      "<class 'requests.models.Response'>\n",
      "200 True\n",
      "https://thumbnews.nateimg.co.kr/news90///news.nateimg.co.kr/orgImg/mk/2025/04/09/20250410_01160101000001_L00.jpg\n"
     ]
    },
    {
     "data": {
      "image/jpeg": "[encoded data removed]",
      "text/plain": [
       "<IPython.core.display.Image object>"
      ]
     },
     "metadata": {},
     "output_type": "display_data"
    },
    {
     "name": "stdout",
     "output_type": "stream",
     "text": [
      "https://news.nate.com/view/20250409n34756?mid=n0300\n",
      "억만장자 비밀모임에 韓 3대그룹 총수 초청\n",
      "https://thumbnews.nateimg.co.kr/news90///news.nateimg.co.kr/orgImg/mt/2025/04/09/mt_1744181766572_816806_0.jpg\n"
     ]
    },
    {
     "data": {
      "image/jpeg": "[encoded data removed]",
      "text/plain": [
       "<IPython.core.display.Image object>"
      ]
     },
     "metadata": {},
     "output_type": "display_data"
    },
    {
     "name": "stdout",
     "output_type": "stream",
     "text": [
      "https://news.nate.com/view/20250409n28495?mid=n0300\n",
      "\"지난달에도 네번 시켰네\"…한국인들, 매달 10만원 '여기'에 쓴다\n",
      "https://thumbnews.nateimg.co.kr/news90///news.nateimg.co.kr/orgImg/yt/2025/04/09/PYH2025040902530001300_P2.jpg\n"
     ]
    },
    {
     "data": {
      "image/jpeg": "[encoded data removed]",
      "text/plain": [
       "<IPython.core.display.Image object>"
      ]
     },
     "metadata": {},
     "output_type": "display_data"
    },
    {
     "name": "stdout",
     "output_type": "stream",
     "text": [
      "https://news.nate.com/view/20250409n28823?mid=n0300\n",
      "1,500원대 환율 '뉴노멀' 되나…관세전쟁 충격에 \"천장 열렸다\"(종합)\n",
      "https://thumbnews.nateimg.co.kr/news90///news.nateimg.co.kr/orgImg/mt/2025/04/09/2025040915363155055_1.jpg\n"
     ]
    },
    {
     "data": {
      "image/jpeg": "[encoded data removed]",
      "text/plain": [
       "<IPython.core.display.Image object>"
      ]
     },
     "metadata": {},
     "output_type": "display_data"
    },
    {
     "name": "stdout",
     "output_type": "stream",
     "text": [
      "https://news.nate.com/view/20250409n28527?mid=n0300\n",
      "알래스카 가스개발, 경제성 있다?…LNG·조선 협상 카드 구체화하나\n",
      "https://thumbnews.nateimg.co.kr/news90///news.nateimg.co.kr/orgImg/na/2025/04/09/7226668_high.jpg\n"
     ]
    },
    {
     "data": {
      "image/jpeg": "[encoded data removed]",
      "text/plain": [
       "<IPython.core.display.Image object>"
      ]
     },
     "metadata": {},
     "output_type": "display_data"
    },
    {
     "name": "stdout",
     "output_type": "stream",
     "text": [
      "https://news.nate.com/view/20250409n27696?mid=n0300\n",
      "\"7년째 적자\" 현대免, 근속 만 3년 이상 직원 희망퇴직 단행\n",
      "None\n"
     ]
    }
   ],
   "source": [
    "import requests as req\n",
    "from bs4 import BeautifulSoup\n",
    "from urllib.parse import urljoin\n",
    "from IPython.display import Image, display\n",
    "\n",
    "\n",
    "section_dict = {\n",
    "    'IT/과학':'section?mid=n0600',\n",
    "    '경제': 'section?mid=n0300',\n",
    "    '사회':'section?mid=n0400',\n",
    "    \"정치\":'section?mid=n0200',\n",
    "    '세계':'section?mid=n0500',\n",
    "    '최신뉴스':'recent?mid=n0100'\n",
    "    \n",
    "}\n",
    "\n",
    "def print_news(section):\n",
    "    sid = section_dict[section]\n",
    "\n",
    "    url = f\"https://news.nate.com/{sid}\"\n",
    "    print(f'=====>{url} {section}뉴스<=====')\n",
    "\n",
    "    req_header = {\n",
    "        'user-agent':\n",
    "    'Mozilla/5.0 (Windows NT 10.0; Win64; x64) AppleWebKit/537.36 (KHTML, like Gecko) Chrome/135.0.0.0 Safari/537.36'\n",
    "    }\n",
    "\n",
    "    \n",
    "    res = req.get(url, headers=req_header)\n",
    "    print(res)\n",
    "    print(type(res))\n",
    "    print(res.status_code, res.ok)\n",
    "    res.encoding = 'euc-kr'\n",
    "\n",
    "    if res.ok:\n",
    "        html = res.text\n",
    "\n",
    "        soup = BeautifulSoup(html, 'html.parser')\n",
    "        \n",
    "        a_tag_list = soup.select(\"div.mlt01 a[href *= 'news.nate.com/view']\")\n",
    "        # print(type(a_list)) # [<a href=\"http://\">뉴스제목</a>]ResultSet객체, <a></a>: Tag 객체 \n",
    "        for a_tag in a_tag_list[:5]:\n",
    "\n",
    "            img_tag =  a_tag.select_one(\"span.ib img[src*='.jpg']\")\n",
    "            if img_tag:\n",
    "                img_url = urljoin(url, img_tag['src'])\n",
    "                print(img_url)\n",
    "                display(Image(img_url))\n",
    "            else:\n",
    "                img_url = None\n",
    "                print(f\"이미지 없음 or 에러. 상태코드 = {res.status_code}\")\n",
    "\n",
    "\n",
    "\n",
    "\n",
    "            # print(type(a_tag))\n",
    "            title = a_tag.select_one(\"span.tb h2.tit\")\n",
    "            title = title.text\n",
    "            #href 속성의 값을 가져오기\n",
    "            link = 'https:' + a_tag['href']\n",
    "            print(link)\n",
    "            print(title)\n",
    "\n",
    "\n",
    "        # <a> 태그 리스트 순회하기  `  \n",
    "    else: \n",
    "        # 응답(response)이 Error 이면 status code 출력 \n",
    "        print(f'Error code = {res.status_code}')   \n",
    "\n",
    "print(print_news('경제'))\n"
   ]
  }
 ],
 "metadata": {
  "kernelspec": {
   "display_name": "base",
   "language": "python",
   "name": "python3"
  },
  "language_info": {
   "codemirror_mode": {
    "name": "ipython",
    "version": 3
   },
   "file_extension": ".py",
   "mimetype": "text/x-python",
   "name": "python",
   "nbconvert_exporter": "python",
   "pygments_lexer": "ipython3",
   "version": "3.12.7"
  }
 },
 "nbformat": 4,
 "nbformat_minor": 5
}
